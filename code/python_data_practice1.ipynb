{
 "cells": [
  {
   "cell_type": "markdown",
   "id": "d4eb49fb",
   "metadata": {},
   "source": [
    "# 기본 그래프 그리기"
   ]
  },
  {
   "cell_type": "code",
   "execution_count": null,
   "id": "82ba3c37",
   "metadata": {},
   "outputs": [],
   "source": [
    "import matplotlib.pyplot as plt"
   ]
  },
  {
   "cell_type": "markdown",
   "id": "4cd8d949",
   "metadata": {},
   "source": [
    "## 리스트 데이터로 그리기"
   ]
  },
  {
   "cell_type": "code",
   "execution_count": null,
   "id": "0d42cace",
   "metadata": {},
   "outputs": [],
   "source": [
    "# y축 데이터[1,5,3,9,7]\n",
    "data = [1,5,3,9,7]"
   ]
  },
  {
   "cell_type": "code",
   "execution_count": null,
   "id": "77c62fdb",
   "metadata": {},
   "outputs": [],
   "source": [
    "plt.plot(data)"
   ]
  },
  {
   "cell_type": "markdown",
   "id": "931e1aeb",
   "metadata": {},
   "source": [
    "## 시리즈 데이터로 그리기"
   ]
  },
  {
   "cell_type": "code",
   "execution_count": null,
   "id": "92774c86",
   "metadata": {},
   "outputs": [],
   "source": [
    "import pandas as pd"
   ]
  },
  {
   "cell_type": "code",
   "execution_count": null,
   "id": "e8e34835",
   "metadata": {},
   "outputs": [],
   "source": [
    "s = pd.Series([1,5,3,9,7])\n",
    "s"
   ]
  },
  {
   "cell_type": "code",
   "execution_count": null,
   "id": "51cdaa34",
   "metadata": {},
   "outputs": [],
   "source": [
    "plt.plot(s)"
   ]
  },
  {
   "cell_type": "code",
   "execution_count": null,
   "id": "f2f95a9d",
   "metadata": {},
   "outputs": [],
   "source": [
    "# 인덱스 변경하기\n",
    "ss = pd.Series([1,5,3,9,7], index=[10,20,30,40,50])"
   ]
  },
  {
   "cell_type": "code",
   "execution_count": null,
   "id": "e793972c",
   "metadata": {},
   "outputs": [],
   "source": [
    "plt.plot(ss)"
   ]
  },
  {
   "cell_type": "code",
   "execution_count": null,
   "id": "8d026f27",
   "metadata": {},
   "outputs": [],
   "source": [
    "sss = pd.Series([1,5,3,9,7], index=['a','b','c','d','e'])\n",
    "sss"
   ]
  },
  {
   "cell_type": "code",
   "execution_count": null,
   "id": "2ec6b9b8",
   "metadata": {},
   "outputs": [],
   "source": [
    "plt.plot(sss)"
   ]
  },
  {
   "cell_type": "code",
   "execution_count": null,
   "id": "e58ed74b",
   "metadata": {},
   "outputs": [],
   "source": [
    "x = [1,5,6,9,10]\n",
    "y = [1,5,3,9,7]\n",
    "\n",
    "plt.plot(x,y)"
   ]
  },
  {
   "cell_type": "code",
   "execution_count": null,
   "id": "aa4df28d",
   "metadata": {},
   "outputs": [],
   "source": [
    "sss = pd.DataFrame({'x':[1,5,6,9,10], 'y':[1,5,3,9,7]})\n",
    "sss"
   ]
  },
  {
   "cell_type": "code",
   "execution_count": null,
   "id": "96042627",
   "metadata": {},
   "outputs": [],
   "source": [
    "x = sss['x']\n",
    "y = sss['y']\n",
    "plt.plot(x,y)"
   ]
  },
  {
   "cell_type": "markdown",
   "id": "851b56b7",
   "metadata": {},
   "source": [
    "# 목적에 따른 여러가지 그래프"
   ]
  },
  {
   "cell_type": "code",
   "execution_count": null,
   "id": "4bfd5b6c",
   "metadata": {},
   "outputs": [],
   "source": [
    "import matplotlib.pyplot as plt"
   ]
  },
  {
   "cell_type": "markdown",
   "id": "123448ad",
   "metadata": {},
   "source": [
    "## 시간의 시각화"
   ]
  },
  {
   "cell_type": "code",
   "execution_count": null,
   "id": "4a28c893",
   "metadata": {},
   "outputs": [],
   "source": [
    "# 샘플데이터 : 어떤 아이의 나이별 키의 변화\n",
    "age = [7,8,9,10,11,12,13,14,15]\n",
    "height = [122.1, 127.9, 133.4, 138.8, 142.7, 151.4, 155.6, 165.0, 169.2]"
   ]
  },
  {
   "cell_type": "code",
   "execution_count": null,
   "id": "d50de427",
   "metadata": {},
   "outputs": [],
   "source": [
    "# 선 그래프\n",
    "plt.plot(age,height)"
   ]
  },
  {
   "cell_type": "markdown",
   "id": "effa31f1",
   "metadata": {},
   "source": [
    "## 수량비교 시각화"
   ]
  },
  {
   "cell_type": "code",
   "execution_count": null,
   "id": "82221225",
   "metadata": {},
   "outputs": [],
   "source": [
    "# 샘플데이터 : 100명 중 혈액형 인원 비교\n",
    "blood_type=['A','B','O','AB']\n",
    "count=[45,35,15,5]"
   ]
  },
  {
   "cell_type": "code",
   "execution_count": null,
   "id": "2a07a75e",
   "metadata": {},
   "outputs": [],
   "source": [
    "# 막대 그래프\n",
    "plt.bar(blood_type,count)"
   ]
  },
  {
   "cell_type": "code",
   "execution_count": null,
   "id": "0a14296b",
   "metadata": {},
   "outputs": [],
   "source": [
    "# 가로 막대 그래프\n",
    "plt.barh(blood_type, count)"
   ]
  },
  {
   "cell_type": "markdown",
   "id": "e7499cee",
   "metadata": {},
   "source": [
    "## 비율의 시각화"
   ]
  },
  {
   "cell_type": "code",
   "execution_count": null,
   "id": "07bd338e",
   "metadata": {},
   "outputs": [],
   "source": [
    "# 샘플데이터 : 100명 중 혈액형 인원의 비율\n",
    "blood_type=['A','B','O','AB']\n",
    "count=[45,35,15,5]"
   ]
  },
  {
   "cell_type": "code",
   "execution_count": null,
   "id": "eacc8662",
   "metadata": {},
   "outputs": [],
   "source": [
    "plt.pie(count, labels=blood_type)\n",
    "plt.show()"
   ]
  },
  {
   "cell_type": "markdown",
   "id": "c69e4b10",
   "metadata": {},
   "source": [
    "## 분포의 시각화"
   ]
  },
  {
   "cell_type": "code",
   "execution_count": null,
   "id": "70e26b7c",
   "metadata": {},
   "outputs": [],
   "source": [
    "# 샘플데이터 (1~100사이의 랜덤 정수 1000개)\n",
    "import numpy as np\n",
    "data = np.random.randint(1,101,1000)\n",
    "data"
   ]
  },
  {
   "cell_type": "code",
   "execution_count": null,
   "id": "1f90874c",
   "metadata": {},
   "outputs": [],
   "source": [
    "plt.hist(data, bins = 100) # 100개로 쪼개서 보여줌\n",
    "plt.show()"
   ]
  },
  {
   "cell_type": "markdown",
   "id": "98fa7089",
   "metadata": {},
   "source": [
    "## 상자수염그래프"
   ]
  },
  {
   "cell_type": "code",
   "execution_count": null,
   "id": "8e25dfca",
   "metadata": {},
   "outputs": [],
   "source": [
    "plt.boxplot(data)\n",
    "plt.show()"
   ]
  },
  {
   "cell_type": "markdown",
   "id": "a370a28f",
   "metadata": {},
   "source": [
    "## 바이올린 그래프"
   ]
  },
  {
   "cell_type": "code",
   "execution_count": null,
   "id": "37478398",
   "metadata": {},
   "outputs": [],
   "source": [
    "plt.violinplot(data)\n",
    "plt.show()"
   ]
  },
  {
   "cell_type": "markdown",
   "id": "771cf8d8",
   "metadata": {},
   "source": [
    "## 관계의 시각화"
   ]
  },
  {
   "cell_type": "code",
   "execution_count": null,
   "id": "de57757a",
   "metadata": {},
   "outputs": [],
   "source": [
    "## 샘플데이터 (지불금액에 따른 팁)\n",
    "import seaborn as sns\n",
    "tips = sns.load_dataset('tips')[['total_bill','tip']]\n",
    "tips"
   ]
  },
  {
   "cell_type": "code",
   "execution_count": null,
   "id": "21540e2e",
   "metadata": {},
   "outputs": [],
   "source": [
    "plt.scatter(tips['total_bill'],tips['tip'])"
   ]
  },
  {
   "cell_type": "markdown",
   "id": "5fbc22e2",
   "metadata": {},
   "source": [
    "# 한글폰트 사용"
   ]
  },
  {
   "cell_type": "code",
   "execution_count": null,
   "id": "c8b47ca0",
   "metadata": {
    "scrolled": true
   },
   "outputs": [],
   "source": [
    "# 폰트 확인하기\n",
    "import matplotlib.font_manager as fm\n",
    "[f.name for f in fm.fontManager.ttflist if 'Malgun Gothic' in f.name]"
   ]
  },
  {
   "cell_type": "code",
   "execution_count": null,
   "id": "d2ac5e39",
   "metadata": {},
   "outputs": [],
   "source": [
    "# 한글폰트 지정\n",
    "plt.rcParams['font.family'] = 'Malgun Gothic'\n",
    "\n",
    "# 한글폰트 사용 시 -기호 깨지는 문제 해결\n",
    "plt.rcParams['axes.unicode_minus']=False"
   ]
  },
  {
   "cell_type": "code",
   "execution_count": null,
   "id": "8ea93326",
   "metadata": {},
   "outputs": [],
   "source": [
    "# 그래프로 확인\n",
    "x = ['봄','여름','가을','겨울']\n",
    "y = [19,30,15,-10]\n",
    "\n",
    "# 그래프 그리기\n",
    "plt.plot(x,y)"
   ]
  },
  {
   "cell_type": "markdown",
   "id": "20d8015f",
   "metadata": {},
   "source": [
    "## 색상, 마커, 선"
   ]
  },
  {
   "cell_type": "markdown",
   "id": "5a862754",
   "metadata": {},
   "source": [
    "### 색상"
   ]
  },
  {
   "cell_type": "code",
   "execution_count": null,
   "id": "155c9f4e",
   "metadata": {},
   "outputs": [],
   "source": [
    "x = ['봄','여름','가을','겨울']\n",
    "y = [19,30,15,-10]"
   ]
  },
  {
   "cell_type": "code",
   "execution_count": null,
   "id": "33bdc160",
   "metadata": {},
   "outputs": [],
   "source": [
    "# 색상이름\n",
    "plt.plot(x,y, color = 'skyblue')"
   ]
  },
  {
   "cell_type": "code",
   "execution_count": null,
   "id": "713051b5",
   "metadata": {},
   "outputs": [],
   "source": [
    "# 색상코드\n",
    "plt.plot(x,y,color='#B7F0B1')"
   ]
  },
  {
   "cell_type": "markdown",
   "id": "e19c27fa",
   "metadata": {},
   "source": [
    "### 마커"
   ]
  },
  {
   "cell_type": "code",
   "execution_count": null,
   "id": "ed67f33a",
   "metadata": {},
   "outputs": [],
   "source": [
    "# 마커 종류 : *, . ,o , v, ^, < ,h, H, s, p, D\n",
    "# ms : 마커 사이즈 mec: 마커 선 색깔 mew: 마커 선 굵기 mfc :마커내부 색깔\n",
    "plt.plot(x,y,color='#B7F0B1', marker='o', ms='10', mec = 'b', mew = '3')"
   ]
  },
  {
   "cell_type": "markdown",
   "id": "fbfc82a2",
   "metadata": {},
   "source": [
    "### 선"
   ]
  },
  {
   "cell_type": "code",
   "execution_count": null,
   "id": "49c840fd",
   "metadata": {},
   "outputs": [],
   "source": [
    "# ls 선스타일 , lw 선 굵기\n",
    "plt.plot(x,y,color='#B7F0B1', marker='o', ms='10', mec = 'b', mew = '3', mfc='y',\n",
    "        ls=':',lw=3)"
   ]
  },
  {
   "cell_type": "code",
   "execution_count": null,
   "id": "d1383f4e",
   "metadata": {},
   "outputs": [],
   "source": [
    "plt.plot(x,y,'o')"
   ]
  },
  {
   "cell_type": "code",
   "execution_count": null,
   "id": "10548fc9",
   "metadata": {},
   "outputs": [],
   "source": [
    "plt.plot(x,y,'ro')"
   ]
  },
  {
   "cell_type": "code",
   "execution_count": null,
   "id": "3053e355",
   "metadata": {},
   "outputs": [],
   "source": [
    "plt.plot(x,y,'y--')"
   ]
  },
  {
   "cell_type": "code",
   "execution_count": null,
   "id": "f6b2e340",
   "metadata": {},
   "outputs": [],
   "source": [
    "plt.plot(x,y,'*:')"
   ]
  },
  {
   "cell_type": "code",
   "execution_count": null,
   "id": "aa6d0097",
   "metadata": {},
   "outputs": [],
   "source": [
    "plt.plot(x,y,'r*:')"
   ]
  },
  {
   "cell_type": "markdown",
   "id": "6c7dadd8",
   "metadata": {},
   "source": [
    "# 그래프 그리기"
   ]
  },
  {
   "cell_type": "code",
   "execution_count": null,
   "id": "db67982a",
   "metadata": {},
   "outputs": [],
   "source": [
    "import pandas as pd"
   ]
  },
  {
   "cell_type": "code",
   "execution_count": null,
   "id": "4f5b4fe0",
   "metadata": {},
   "outputs": [],
   "source": [
    "df = pd.DataFrame({'월':[1,2,3,4,5,],'몸무게':[80,78,75,73,70]})\n",
    "df"
   ]
  },
  {
   "cell_type": "code",
   "execution_count": null,
   "id": "05be8346",
   "metadata": {},
   "outputs": [],
   "source": [
    "x = df['월']\n",
    "y = df['몸무게']\n",
    "plt.plot(x,y, 'ro-',mec = 'b', mfc = 'b', lw=3,ms=7)\n",
    "plt.show"
   ]
  },
  {
   "cell_type": "code",
   "execution_count": null,
   "id": "0245f2ec",
   "metadata": {},
   "outputs": [],
   "source": [
    "x = df['월']\n",
    "y = df['몸무게']\n",
    "plt.plot(x,y, 'ro-',mec = 'b', mfc = 'b', lw=3,ms=7)\n",
    "plt.title('월별 몸무게 변화', loc='center', pad=10, color='r', fontsize= 20,fontweight='bold', fontfamily = )\n",
    "plt.show()"
   ]
  },
  {
   "cell_type": "code",
   "execution_count": null,
   "id": "2946b33f",
   "metadata": {},
   "outputs": [],
   "source": [
    "x = df['월']\n",
    "y = df['몸무게']\n",
    "plt.plot(x,y, 'ro-',mec = 'b', mfc = 'b', lw=3,ms=7)\n",
    "plt.title('월별 몸무게 변화', loc='center', pad=10, color='r', fontsize= 20,fontweight='bold' )\n",
    "\n",
    "plt.xlabel('월',loc='right',labelpad = 10)\n",
    "plt.ylabel('몸무게(kg)', loc='top',labelpad = 10,color='b')\n",
    "plt.grid(axis = 'x') # x축만 그리드\n",
    "plt.show()"
   ]
  },
  {
   "cell_type": "code",
   "execution_count": null,
   "id": "4c997c08",
   "metadata": {
    "scrolled": true
   },
   "outputs": [],
   "source": [
    "x = df['월']\n",
    "y = df['몸무게']\n",
    "plt.plot(x,y, 'ro-',mec = 'b', mfc = 'b', lw=3,ms=7)\n",
    "plt.title('월별 몸무게 변화', loc='center', pad=10, color='r', fontsize= 20,fontweight='bold' )\n",
    "\n",
    "plt.xlabel('월',loc='right',labelpad = 10)\n",
    "plt.ylabel('몸무게(kg)', loc='top',labelpad = 10,color='b')\n",
    "plt.grid(color = 'skyblue', alpha=0.5, ls=':')\n",
    "plt.show()"
   ]
  },
  {
   "cell_type": "markdown",
   "id": "d38b6c6d",
   "metadata": {},
   "source": [
    "# 그래프 스타일링"
   ]
  },
  {
   "cell_type": "code",
   "execution_count": null,
   "id": "36aac251",
   "metadata": {},
   "outputs": [],
   "source": [
    "df"
   ]
  },
  {
   "cell_type": "code",
   "execution_count": null,
   "id": "031471c0",
   "metadata": {},
   "outputs": [],
   "source": [
    "x = df['월']\n",
    "y = df['몸무게']\n",
    "plt.plot(x,y,'bo-',mfc='r',mec='r')\n",
    "plt.xlabel('월')\n",
    "plt.ylabel('몸무게(kg)')\n",
    "\n",
    "plt.grid()\n",
    "plt.title('월별 몸무게 변화', size=15, color='b', fontweight='bold')\n",
    "plt.show()"
   ]
  },
  {
   "cell_type": "code",
   "execution_count": null,
   "id": "bcfa69cf",
   "metadata": {},
   "outputs": [],
   "source": [
    "# 축의 범위 지정하기\n",
    "x = df['월']\n",
    "y = df['몸무게']\n",
    "plt.plot(x,y,'bo-',mfc='r',mec='r')\n",
    "plt.title('월별 몸무게 변화', size=15, color='b', fontweight='bold')\n",
    "\n",
    "# 축 레이블\n",
    "plt.xlabel('월')\n",
    "plt.ylabel('몸무게(kg)')\n",
    "\n",
    "# 축 범위\n",
    "plt.xlim(1,12)\n",
    "plt.ylim(0,100)\n",
    "\n",
    "# 그리드\n",
    "plt.grid()\n",
    "plt.show()"
   ]
  },
  {
   "cell_type": "code",
   "execution_count": null,
   "id": "2e5ae6a9",
   "metadata": {},
   "outputs": [],
   "source": [
    "# x축 : 0,1,2,3,4,5,6,7,8,9,10,11,12,13\n",
    "# y축 : 0,10,20,30,40,50,60,70,80,90,100\n",
    "\n",
    "xticks_lable = ['','1월','2월','3월','4월','5월','6월','7월','8월','9월','10월','11월','12월','']\n",
    "yticks_lable = ['0kg','10kg','20kg','30kg','40kg','50kg','60kg','70kg','80kg','90kg','100kg']\n",
    "\n",
    "# x축 : 0,1,2,3,4,5,6,7,8,9,10,11,12,13\n",
    "# y축 : 0,10,20,30,40,50,60,70,80,90,100\n",
    "\n",
    "x = df['월']\n",
    "y = df['몸무게']\n",
    "plt.plot(x,y,'bo-', mfc='r',mec='r')\n",
    "\n",
    "# title\n",
    "plt.title('월별 몸무게 변화', size=15, color='b', fontweight='bold')\n",
    "\n",
    "# 축 레이블\n",
    "plt.xlabel('월')\n",
    "plt.ylabel('몸무게(kg)')\n",
    "\n",
    "# 틱\n",
    "plt.xticks(range(0,14,1), labels=xticks_lable)\n",
    "plt.yticks(range(0,110,10), labels=yticks_lable)\n",
    "\n",
    "#plt.tick_params(direction='inout',length=10,width=2,color='g',labelcolor='m' )\n",
    "plt.tick_params(axis='x',direction='inout',length=10,width=2,colors='g',labelsize=12 )\n",
    "plt.tick_params(axis='y',direction='inout',length=10,width=2,colors='b',labelsize=12 )\n",
    "# 그리드\n",
    "plt.grid(ls=':')\n",
    "plt.show()\n"
   ]
  },
  {
   "cell_type": "markdown",
   "id": "8cafa967",
   "metadata": {},
   "source": [
    "# 여러개의 그래프와 범례"
   ]
  },
  {
   "cell_type": "code",
   "execution_count": null,
   "id": "5682d5d2",
   "metadata": {
    "scrolled": true
   },
   "outputs": [],
   "source": [
    "# 폰트 확인하기\n",
    "import matplotlib.font_manager as fm\n",
    "[f.name for f in fm.fontManager.ttflist if 'Malgun Gothic' in f.name]"
   ]
  },
  {
   "cell_type": "code",
   "execution_count": null,
   "id": "1d4bc56a",
   "metadata": {},
   "outputs": [],
   "source": [
    "# 한글폰트 지정\n",
    "plt.rcParams['font.family'] = 'Malgun Gothic'\n",
    "\n",
    "# 한글폰트 사용 시 -기호 깨지는 문제 해결\n",
    "plt.rcParams['axes.unicode_minus']=False"
   ]
  },
  {
   "cell_type": "code",
   "execution_count": null,
   "id": "f3fdd4d2",
   "metadata": {},
   "outputs": [],
   "source": [
    "import pandas as pd\n",
    "df1 = pd.DataFrame({'월':[1,2,3,4,5],'몸무게':[80,78,75,73,70]})\n",
    "df2 = pd.DataFrame({'월':[1,2,3,4,5],'몸무게':[60,62,59,55,54]})"
   ]
  },
  {
   "cell_type": "code",
   "execution_count": null,
   "id": "579679ac",
   "metadata": {},
   "outputs": [],
   "source": [
    "df1"
   ]
  },
  {
   "cell_type": "code",
   "execution_count": null,
   "id": "30893690",
   "metadata": {},
   "outputs": [],
   "source": [
    "df2"
   ]
  },
  {
   "cell_type": "code",
   "execution_count": null,
   "id": "fc9a3616",
   "metadata": {},
   "outputs": [],
   "source": [
    "#x축 틱 라벨\n",
    "def fn_xtick(x):\n",
    "    x = str(x)\n",
    "    if x=='0' or x=='13':\n",
    "        return ''\n",
    "    else:\n",
    "        return x+'월'\n",
    "\n",
    "xtick_label = pd.Series(range(0,14,1))\n",
    "xtick_label = xtick_label.apply(fn_xtick)\n",
    "xtick_label"
   ]
  },
  {
   "cell_type": "code",
   "execution_count": null,
   "id": "316408d6",
   "metadata": {},
   "outputs": [],
   "source": [
    "# y축 틱 라벨\n",
    "def fn_ytick(x):\n",
    "    x = str(x)\n",
    "    return x+'kg'\n",
    "\n",
    "ytick_label = pd.Series(range(30,95,5))\n",
    "ytick_label = ytick_label.apply(fn_ytick)\n",
    "ytick_label"
   ]
  },
  {
   "cell_type": "markdown",
   "id": "02f48a54",
   "metadata": {},
   "source": [
    "## 여러개의 그래프 각각 그리기"
   ]
  },
  {
   "cell_type": "code",
   "execution_count": null,
   "id": "d7ae020f",
   "metadata": {},
   "outputs": [],
   "source": [
    "plt.plot(df1['월'],df1['몸무게'])\n",
    "plt.plot(df2['월'],df2['몸무게'])\n",
    "\n",
    "# 그래프 제목\n",
    "plt.title('월별 몸무게 변화', size= 15)\n",
    "\n",
    "# 축라벨\n",
    "plt.xlabel('월', fontsize = 12)\n",
    "plt.ylabel('몸무게(kg)', fontsize = 12)\n",
    "\n",
    "# x축 틱 : 1월 ,2월 ,3월\n",
    "plt.xticks(range(0,14,1), labels= xtick_label)\n",
    "plt.yticks(range(30,95,5), labels= ytick_label)\n",
    "\n",
    "# 그리드\n",
    "plt.grid(ls=':')\n",
    "plt.show()"
   ]
  },
  {
   "cell_type": "markdown",
   "id": "7d83f143",
   "metadata": {},
   "source": [
    "### 범례 표시하기"
   ]
  },
  {
   "cell_type": "code",
   "execution_count": null,
   "id": "06774207",
   "metadata": {
    "scrolled": true
   },
   "outputs": [],
   "source": [
    "plt.plot(df1['월'],df1['몸무게'], label='James')\n",
    "plt.plot(df2['월'],df2['몸무게'], label='Amy')\n",
    "plt.legend(loc=1)\n",
    "\n",
    "# 그래프 제목\n",
    "plt.title('월별 몸무게 변화', size= 15)\n",
    "\n",
    "# 축라벨\n",
    "plt.xlabel('월', fontsize = 12)\n",
    "plt.ylabel('몸무게(kg)', fontsize = 12)\n",
    "\n",
    "# x축 틱 : 1월 ,2월 ,3월\n",
    "plt.xticks(range(0,14,1), labels= xtick_label)\n",
    "plt.yticks(range(30,95,5), labels= ytick_label)\n",
    "\n",
    "# 그리드\n",
    "plt.grid(ls=':')\n",
    "plt.show()"
   ]
  },
  {
   "cell_type": "markdown",
   "id": "0e37b513",
   "metadata": {},
   "source": [
    "### 범례 위치 이름 사용"
   ]
  },
  {
   "cell_type": "code",
   "execution_count": null,
   "id": "2b36451a",
   "metadata": {},
   "outputs": [],
   "source": [
    "plt.plot(df1['월'],df1['몸무게'], label='James')\n",
    "plt.plot(df2['월'],df2['몸무게'], label='Amy')\n",
    "plt.legend(loc=(1.01,0.8))\n",
    "\n",
    "# 그래프 제목\n",
    "plt.title('월별 몸무게 변화', size= 15)\n",
    "\n",
    "# 축라벨\n",
    "plt.xlabel('월', fontsize = 12)\n",
    "plt.ylabel('몸무게(kg)', fontsize = 12)\n",
    "\n",
    "# x축 틱 : 1월 ,2월 ,3월\n",
    "plt.xticks(range(0,14,1), labels= xtick_label)\n",
    "plt.yticks(range(30,95,5), labels= ytick_label)\n",
    "\n",
    "# 그리드\n",
    "plt.grid(ls=':')\n",
    "plt.show()"
   ]
  },
  {
   "cell_type": "markdown",
   "id": "5cd14cd1",
   "metadata": {},
   "source": [
    "### 범례 꾸미기"
   ]
  },
  {
   "cell_type": "code",
   "execution_count": null,
   "id": "7905028f",
   "metadata": {
    "scrolled": true
   },
   "outputs": [],
   "source": [
    "plt.plot(df1['월'],df1['몸무게'], label='James')\n",
    "plt.plot(df2['월'],df2['몸무게'], label='Amy')\n",
    "plt.legend(loc='best', ncol=2, fontsize=12, shadow=True,facecolor='ivory',edgecolor='black')\n",
    "\n",
    "# 그래프 제목\n",
    "plt.title('월별 몸무게 변화', size= 15)\n",
    "\n",
    "# 축라벨\n",
    "plt.xlabel('월', fontsize = 12)\n",
    "plt.ylabel('몸무게(kg)', fontsize = 12)\n",
    "\n",
    "# x축 틱 : 1월 ,2월 ,3월\n",
    "plt.xticks(range(0,14,1), labels= xtick_label)\n",
    "plt.yticks(range(30,95,5), labels= ytick_label)\n",
    "\n",
    "# 그리드\n",
    "plt.grid(ls=':')\n",
    "plt.show()"
   ]
  },
  {
   "cell_type": "markdown",
   "id": "29ec58c9",
   "metadata": {},
   "source": [
    "# pyplot으로 서브플롯 그리기"
   ]
  },
  {
   "cell_type": "code",
   "execution_count": null,
   "id": "366bb3e0",
   "metadata": {},
   "outputs": [],
   "source": [
    "import seaborn as sns\n",
    "anscombe =sns.load_dataset('anscombe')\n",
    "anscombe"
   ]
  },
  {
   "cell_type": "code",
   "execution_count": null,
   "id": "b3fbd841",
   "metadata": {},
   "outputs": [],
   "source": [
    "df1 = anscombe[anscombe['dataset']=='I']\n",
    "df2 = anscombe[anscombe['dataset']=='II']\n",
    "df3 = anscombe[anscombe['dataset']=='III']\n",
    "df4 = anscombe[anscombe['dataset']=='IV']"
   ]
  },
  {
   "cell_type": "code",
   "execution_count": null,
   "id": "1b085b81",
   "metadata": {},
   "outputs": [],
   "source": [
    "df4"
   ]
  },
  {
   "cell_type": "code",
   "execution_count": null,
   "id": "cd054d26",
   "metadata": {},
   "outputs": [],
   "source": [
    "df4.shape"
   ]
  },
  {
   "cell_type": "code",
   "execution_count": null,
   "id": "142eb629",
   "metadata": {},
   "outputs": [],
   "source": [
    "# 데이터의 통계수치 확인\n",
    "df1.describe()"
   ]
  },
  {
   "cell_type": "code",
   "execution_count": null,
   "id": "4773a1b7",
   "metadata": {},
   "outputs": [],
   "source": [
    "df2.describe()"
   ]
  },
  {
   "cell_type": "markdown",
   "id": "ef1ec8d6",
   "metadata": {},
   "source": [
    "## 데이터 시각화"
   ]
  },
  {
   "cell_type": "code",
   "execution_count": null,
   "id": "11eac2e7",
   "metadata": {},
   "outputs": [],
   "source": [
    "# 첫번째 데이터\n",
    "plt.plot(df1['x'],df1['y'],'o')"
   ]
  },
  {
   "cell_type": "code",
   "execution_count": null,
   "id": "cbb13404",
   "metadata": {},
   "outputs": [],
   "source": [
    "plt.plot(df2['x'],df2['y'],'o')"
   ]
  },
  {
   "cell_type": "code",
   "execution_count": null,
   "id": "d371c3dc",
   "metadata": {},
   "outputs": [],
   "source": [
    "plt.plot(df3['x'],df3['y'],'o')"
   ]
  },
  {
   "cell_type": "code",
   "execution_count": null,
   "id": "6c38155b",
   "metadata": {},
   "outputs": [],
   "source": [
    "plt.plot(df4['x'],df4['y'],'o')"
   ]
  },
  {
   "cell_type": "code",
   "execution_count": null,
   "id": "959062bb",
   "metadata": {},
   "outputs": [],
   "source": [
    "# 그래프 한번에 그리기\n",
    "plt.plot(df1['x'],df1['y'],'o')\n",
    "plt.plot(df2['x'],df2['y'],'o')\n",
    "plt.plot(df3['x'],df3['y'],'o')\n",
    "plt.plot(df4['x'],df4['y'],'o')"
   ]
  },
  {
   "cell_type": "markdown",
   "id": "4644219e",
   "metadata": {},
   "source": [
    "## 서브플롯 그리기"
   ]
  },
  {
   "cell_type": "code",
   "execution_count": null,
   "id": "c8b1087e",
   "metadata": {},
   "outputs": [],
   "source": [
    "plt.figure(figsize=(9,6))\n",
    "\n",
    "plt.subplot(221)\n",
    "plt.plot(df1['x'],df1['y'],'o')\n",
    "\n",
    "plt.subplot(222)\n",
    "plt.plot(df2['x'],df2['y'],'+')\n",
    "\n",
    "plt.subplot(223)\n",
    "plt.plot(df3['x'],df3['y'],'*')\n",
    "\n",
    "plt.subplot(224)\n",
    "plt.plot(df4['x'],df4['y'],'D')"
   ]
  },
  {
   "cell_type": "code",
   "execution_count": null,
   "id": "4e4786cf",
   "metadata": {
    "scrolled": true
   },
   "outputs": [],
   "source": [
    "fig = plt.figure(figsize=(9,6), facecolor='ivory')\n",
    "\n",
    "plt.subplot(221)\n",
    "plt.plot(df1['x'],df1['y'],'o')\n",
    "plt.title('am1')\n",
    "\n",
    "plt.subplot(222)\n",
    "plt.plot(df2['x'],df2['y'],'+')\n",
    "plt.title('am2')\n",
    "\n",
    "plt.subplot(223)\n",
    "plt.plot(df3['x'],df3['y'],'*')\n",
    "plt.title('am3')\n",
    "\n",
    "plt.subplot(224)\n",
    "plt.plot(df4['x'],df4['y'],'D')\n",
    "plt.title('am4')\n",
    "\n",
    "fig.suptitle('Amscombe',size = 20)\n",
    "fig.tight_layout()"
   ]
  },
  {
   "cell_type": "markdown",
   "id": "1fa2c63b",
   "metadata": {},
   "source": [
    "# 서브플롯 그리기"
   ]
  },
  {
   "cell_type": "code",
   "execution_count": null,
   "id": "ab9744cb",
   "metadata": {},
   "outputs": [],
   "source": [
    "import matplotlib.pyplot as plt"
   ]
  },
  {
   "cell_type": "code",
   "execution_count": null,
   "id": "d3350e71",
   "metadata": {},
   "outputs": [],
   "source": [
    "import seaborn as sns\n",
    "anscombe = sns.load_dataset('anscombe')\n",
    "df1 = anscombe[anscombe['dataset']=='I']\n",
    "df2 = anscombe[anscombe['dataset']=='II']\n",
    "df3 = anscombe[anscombe['dataset']=='III']\n",
    "df4 = anscombe[anscombe['dataset']=='IV']"
   ]
  },
  {
   "cell_type": "code",
   "execution_count": null,
   "id": "b87c7351",
   "metadata": {},
   "outputs": [],
   "source": [
    "df1"
   ]
  },
  {
   "cell_type": "code",
   "execution_count": null,
   "id": "4a075580",
   "metadata": {},
   "outputs": [],
   "source": [
    "# 1) figure 객체를 생성한다.\n",
    "fig = plt.figure(figsize=(8,6))\n",
    "\n",
    "# 2) figure객체의 add_axes 에소도로 위치와 크기 지정후 axes 객체생성\n",
    "ax1 = fig.add_axes([0,0.5,0.4,0.4])\n",
    "ax2 = fig.add_axes([0.5,0.5,0.4,0.4])\n",
    "ax3 = fig.add_axes([0,0,0.4,0.4])\n",
    "ax4 = fig.add_axes([0.5,0,0.4,0.4])\n",
    "\n",
    "# 3) axes에 그래프를 그린다.\n",
    "ax1.plot(df1['x'],df1['y'],'o')\n",
    "ax2.plot(df2['x'],df2['y'],'r^')\n",
    "ax3.plot(df3['x'],df3['y'],'k*')\n",
    "ax4.plot(df4['x'],df4['y'],'D')\n",
    "\n",
    "# 4) axes에 제목 추가\n",
    "ax1.set_title('ax1')\n",
    "ax2.set_title('ax2')\n",
    "ax3.set_title('ax3')\n",
    "ax4.set_title('ax4')"
   ]
  },
  {
   "cell_type": "markdown",
   "id": "1df6eb81",
   "metadata": {},
   "source": [
    "## axes를 행, 열로 쪼개어 서브플롯 그리기"
   ]
  },
  {
   "cell_type": "code",
   "execution_count": null,
   "id": "f984584c",
   "metadata": {},
   "outputs": [],
   "source": [
    "import seaborn as sns\n",
    "anscombe = sns.load_dataset('anscombe')\n",
    "df1 = anscombe[anscombe['dataset']=='I']\n",
    "df2 = anscombe[anscombe['dataset']=='II']\n",
    "df3 = anscombe[anscombe['dataset']=='III']\n",
    "df4 = anscombe[anscombe['dataset']=='IV']"
   ]
  },
  {
   "cell_type": "code",
   "execution_count": null,
   "id": "bcc374bf",
   "metadata": {},
   "outputs": [],
   "source": [
    "df4"
   ]
  },
  {
   "cell_type": "code",
   "execution_count": null,
   "id": "07a6f02a",
   "metadata": {},
   "outputs": [],
   "source": [
    "# 1) axes 객체를 행,열로 쪼개어 생성하기\n",
    "# 2) 서브플롯간 축을 공유할 수 있다.\n",
    "fig,ax = plt.subplots(nrows=2, ncols=2, figsize=(8,6))\n",
    "\n",
    "# 3) axes[행번호][열번호] 형태로 접근하여 그래프 그리기\n",
    "ax[0][0].plot(df1['x'],df1['y'],'o')\n",
    "ax[0][1].plot(df2['x'],df2['y'],'^')\n",
    "ax[1][0].plot(df3['x'],df3['y'],'*')\n",
    "ax[1][1].plot(df4['x'],df4['y'],'d')\n",
    "\n",
    "# 4) 각 그래프에 제목 추가\n",
    "ax[0][0].set_title('ax1')\n",
    "ax[0][1].set_title('ax2')\n",
    "ax[1][0].set_title('ax3')\n",
    "ax[1][1].set_title('ax4')\n",
    "\n",
    "# 5) 각 그래프에 그리드 추가\n",
    "ax[0][0].grid(ls=':')\n",
    "ax[0][1].grid(ls=':', color='pink')\n",
    "ax[1][0].grid(ls=':', color='skyblue')\n",
    "ax[1][1].grid(ls=':', color='green',alpha = 0.5)\n",
    "\n",
    "# 6) 그래프 전체 제목\n",
    "fig.suptitle('Anscombe', size=20)\n",
    "\n",
    "# 7) 그래프 간격, 크기 최적화\n",
    "fig.tight_layout()"
   ]
  },
  {
   "cell_type": "code",
   "execution_count": null,
   "id": "f8ced792",
   "metadata": {},
   "outputs": [],
   "source": [
    "# 1) figure 객체를 생성\n",
    "fig = plt.figure(figsize=(9,6), facecolor = 'ivory')\n",
    "\n",
    "# 2) 서브플롯을 그릴 axes 객체를 생성\n",
    "ax1 = fig.add_subplot(2,2,1, label='ax1')\n",
    "ax2 = fig.add_subplot(2,2,2, sharex=ax1, sharey=ax1, label='ax2')\n",
    "ax3 = fig.add_subplot(2,2,3, sharex=ax1, sharey=ax1, label='ax3')\n",
    "ax4 = fig.add_subplot(2,2,4, label='ax4')\n",
    "\n",
    "# 3) 축 공유하기 : 어떤 axes의 축을 공유할 것인지 지정한다\n",
    "# sharex, sharey\n",
    "ax4.set_xticks(range(1,20,1))\n",
    "ax4.set_yticks(range(1,15,1))\n",
    "\n",
    "# 4) axes 객체에 그래프를 그린다.\n",
    "ax1.plot(df1['x'],df1['y'],'o')\n",
    "ax2.plot(df2['x'],df2['y'],'^')\n",
    "ax3.plot(df3['x'],df3['y'],'*')\n",
    "ax4.plot(df4['x'],df4['y'],'D')\n",
    "\n",
    "# 5) 범례 표시하기\n",
    "ax1.legend(loc=2)\n",
    "ax2.legend(loc=2)\n",
    "ax3.legend(loc=2)\n",
    "ax4.legend(loc=2)\n",
    "\n",
    "# 6) figure 제목 추가히기\n",
    "fig.suptitle('Anscombe', size=20)\n",
    "\n",
    "# 7) 그래프 크기, 간격 최적화하기\n",
    "fig.tight_layout()\n",
    "\n",
    "plt.show()"
   ]
  },
  {
   "cell_type": "markdown",
   "id": "cb4d111e",
   "metadata": {},
   "source": [
    "## 이미지로 저장하기"
   ]
  },
  {
   "cell_type": "code",
   "execution_count": null,
   "id": "a730ea7d",
   "metadata": {},
   "outputs": [],
   "source": [
    "fig.savefig('img100.png')"
   ]
  },
  {
   "cell_type": "code",
   "execution_count": null,
   "id": "34759449",
   "metadata": {},
   "outputs": [],
   "source": [
    "fig.savefig('img150.png', dpi=150)"
   ]
  },
  {
   "cell_type": "markdown",
   "id": "4ef46276",
   "metadata": {},
   "source": [
    "# 막대그래프"
   ]
  },
  {
   "cell_type": "code",
   "execution_count": null,
   "id": "0a2e8039",
   "metadata": {},
   "outputs": [],
   "source": [
    "import pandas as pd\n",
    "import matplotlib.pyplot as plt "
   ]
  },
  {
   "cell_type": "code",
   "execution_count": null,
   "id": "acda26d5",
   "metadata": {},
   "outputs": [],
   "source": [
    "# 그래프에 한글 설정\n",
    "plt.rc('font',family='Malgun Gothic')\n",
    "\n",
    "# 그래프에 마이너스 기호 깨지는 문제 해결\n",
    "plt.rcParams['axes.unicode_minus'] = False"
   ]
  },
  {
   "cell_type": "code",
   "execution_count": null,
   "id": "5dd3d5c8",
   "metadata": {
    "scrolled": true
   },
   "outputs": [],
   "source": [
    "# 샘플 데이터 두 매장의 요일별 매출액\n",
    "df1 = pd.DataFrame({'요일':['월','화','수','목','금','토','일'], \n",
    "                   '매출액':[10000,9000,11000,8000,13000,15000,14000]})\n",
    "df1"
   ]
  },
  {
   "cell_type": "code",
   "execution_count": null,
   "id": "e25f9446",
   "metadata": {
    "scrolled": true
   },
   "outputs": [],
   "source": [
    "df2 = pd.DataFrame({'요일':['월','화','수','목','금','토','일'], \n",
    "                   '매출액':[9000,9500,13000,7000,12000,14000,11000]})\n",
    "df2"
   ]
  },
  {
   "cell_type": "code",
   "execution_count": null,
   "id": "44fbd115",
   "metadata": {},
   "outputs": [],
   "source": [
    "# 세로 막대 그래프\n",
    "plt.bar(df1['요일'],df1['매출액'], width=0.4, color='r')"
   ]
  },
  {
   "cell_type": "code",
   "execution_count": null,
   "id": "819cc8d5",
   "metadata": {
    "scrolled": true
   },
   "outputs": [],
   "source": [
    "# 가로 막대 그래프\n",
    "plt.barh(df1['요일'],df1['매출액'], height=0.4)"
   ]
  },
  {
   "cell_type": "code",
   "execution_count": null,
   "id": "a4bc8930",
   "metadata": {},
   "outputs": [],
   "source": [
    "# 세로 막대 그래프\n",
    "plt.bar(df1['요일'],df1['매출액'], width=0.4, color=['r','orange','y','g','b','navy','violet'])"
   ]
  },
  {
   "cell_type": "code",
   "execution_count": null,
   "id": "703fa926",
   "metadata": {
    "scrolled": true
   },
   "outputs": [],
   "source": [
    "# 막대 테두리\n",
    "plt.bar(df1['요일'],df1['매출액'], width=0.4, color=['r','orange','y','g','b','navy','violet']\n",
    "       , edgecolor = 'gray', linewidth = 2)"
   ]
  },
  {
   "cell_type": "code",
   "execution_count": null,
   "id": "a58136e3",
   "metadata": {
    "scrolled": true
   },
   "outputs": [],
   "source": [
    "plt.bar(df1['요일'],df1['매출액'], width=0.4, color=['r','orange','y','g','b','navy','violet']\n",
    "       , edgecolor = 'gray', linewidth = 2, hatch = '*')"
   ]
  },
  {
   "cell_type": "code",
   "execution_count": null,
   "id": "0dfbd7d1",
   "metadata": {
    "scrolled": true
   },
   "outputs": [],
   "source": [
    "# 패턴의 밀도 지정\n",
    "plt.bar(df1['요일'],df1['매출액'], width=0.4, color=['r','orange','y','g','b','navy','violet']\n",
    "       , edgecolor = 'gray', linewidth = 2, hatch = '**')"
   ]
  },
  {
   "cell_type": "code",
   "execution_count": null,
   "id": "47468566",
   "metadata": {
    "scrolled": true
   },
   "outputs": [],
   "source": [
    "# 막대마다 다른 패턴 지정\n",
    "bars = plt.bar(df1['요일'],df1['매출액'], width=0.4, color=['r','orange','y','g','b','navy','violet']\n",
    "       , edgecolor = 'gray', linewidth = 2, hatch = '*')\n",
    "\n",
    "bars[0].set_hatch('.')\n",
    "bars[1].set_hatch('/')\n",
    "bars[2].set_hatch('+')\n",
    "bars[3].set_hatch('-')\n",
    "bars[4].set_hatch('*')\n",
    "bars[5].set_hatch('|')\n",
    "bars[6].set_hatch('o')"
   ]
  },
  {
   "cell_type": "code",
   "execution_count": null,
   "id": "7502b105",
   "metadata": {
    "scrolled": true
   },
   "outputs": [],
   "source": [
    "# 막대 위치 지정\n",
    "plt.bar(df1['요일'],df1['매출액'], width=0.4, align='edge')"
   ]
  },
  {
   "cell_type": "code",
   "execution_count": null,
   "id": "262e206e",
   "metadata": {},
   "outputs": [],
   "source": [
    "# 두개의 막대그래프 비교하기\n",
    "plt.bar(df1['요일'],df1['매출액'], width=-0.4, align='edge')\n",
    "plt.bar(df2['요일'],df2['매출액'], width=0.4, align='edge')\n",
    "plt.title('두 매장의 요일별 매출액 평균', size=15)\n",
    "plt.grid(axis='y', ls=':')"
   ]
  },
  {
   "cell_type": "markdown",
   "id": "0a02ba2a",
   "metadata": {},
   "source": [
    "# 산점도"
   ]
  },
  {
   "cell_type": "code",
   "execution_count": null,
   "id": "3e504a1f",
   "metadata": {},
   "outputs": [],
   "source": [
    "import matplotlib.pyplot as plt "
   ]
  },
  {
   "cell_type": "code",
   "execution_count": null,
   "id": "127859b5",
   "metadata": {},
   "outputs": [],
   "source": [
    "import matplotlib as mpl\n",
    "\n",
    "# 그래프에 한글 설정\n",
    "mpl.rcParams['font.family'] = 'NanumSquare'\n",
    "\n",
    "# 유니코드에서 그래프에 마이너스 기호 깨지는 문제 해결\n",
    "mpl.rcParams['axes.unicode_minus'] = False"
   ]
  },
  {
   "cell_type": "code",
   "execution_count": null,
   "id": "b7611546",
   "metadata": {},
   "outputs": [],
   "source": [
    "# 데이터\n",
    "x = [1,5,6,9,10]\n",
    "y = [1,5,3,9,7]"
   ]
  },
  {
   "cell_type": "code",
   "execution_count": null,
   "id": "478463bd",
   "metadata": {
    "scrolled": false
   },
   "outputs": [],
   "source": [
    "plt.scatter(x,y)"
   ]
  },
  {
   "cell_type": "code",
   "execution_count": null,
   "id": "d14f6372",
   "metadata": {
    "scrolled": true
   },
   "outputs": [],
   "source": [
    "# 점의 크기\n",
    "plt.scatter(x,y,s=[100,200,50,80,30])"
   ]
  },
  {
   "cell_type": "code",
   "execution_count": null,
   "id": "52f031be",
   "metadata": {
    "scrolled": true
   },
   "outputs": [],
   "source": [
    "# 점의 색상\n",
    "plt.scatter(x,y,s=[100,200,50,80,30], c=['r','b','g','k','y'])"
   ]
  },
  {
   "cell_type": "code",
   "execution_count": null,
   "id": "28135960",
   "metadata": {
    "scrolled": true
   },
   "outputs": [],
   "source": [
    "# 컬러맵으로 색상 지정\n",
    "plt.scatter(x,y,c=y, cmap='cool')\n",
    "plt.colorbar()"
   ]
  },
  {
   "cell_type": "code",
   "execution_count": null,
   "id": "ccd7f8cd",
   "metadata": {},
   "outputs": [],
   "source": [
    "import seaborn as sns\n",
    "tips = sns.load_dataset('tips')\n",
    "tips.head()"
   ]
  },
  {
   "cell_type": "code",
   "execution_count": null,
   "id": "d91aa999",
   "metadata": {},
   "outputs": [],
   "source": [
    "tips.shape"
   ]
  },
  {
   "cell_type": "code",
   "execution_count": null,
   "id": "1a6021fe",
   "metadata": {
    "scrolled": true
   },
   "outputs": [],
   "source": [
    "# 지불금액과 팁의 관계\n",
    "plt.scatter(tips['total_bill'], tips['tip'])"
   ]
  },
  {
   "cell_type": "code",
   "execution_count": null,
   "id": "c3f179e1",
   "metadata": {
    "scrolled": true
   },
   "outputs": [],
   "source": [
    "# 점의 크기로 테이블 인원 표시\n",
    "plt.scatter(tips['total_bill'], tips['tip'], s=tips['size']*50, alpha=0.5)"
   ]
  },
  {
   "cell_type": "code",
   "execution_count": null,
   "id": "6bf22bd9",
   "metadata": {},
   "outputs": [],
   "source": [
    "# 점이 색으로 성별 표시\n",
    "def set_color(x):\n",
    "    if x=='Male':\n",
    "        return 'blue'\n",
    "    else:\n",
    "        return 'red'\n",
    "    \n",
    "tips['color'] = tips['sex'].apply(set_color)"
   ]
  },
  {
   "cell_type": "code",
   "execution_count": null,
   "id": "e0fff548",
   "metadata": {
    "scrolled": true
   },
   "outputs": [],
   "source": [
    "tips"
   ]
  },
  {
   "cell_type": "code",
   "execution_count": null,
   "id": "6ab6235a",
   "metadata": {
    "scrolled": true
   },
   "outputs": [],
   "source": [
    "plt.scatter(tips['total_bill'], tips['tip'], s=tips['size']*50, alpha=0.5, c=tips['color'])"
   ]
  },
  {
   "cell_type": "markdown",
   "id": "f0e7be3f",
   "metadata": {},
   "source": [
    "# 히트맵"
   ]
  },
  {
   "cell_type": "code",
   "execution_count": null,
   "id": "dcd8694e",
   "metadata": {
    "scrolled": true
   },
   "outputs": [],
   "source": [
    "# 샘플데이터\n",
    "import numpy as np\n",
    "arr = np.random.standard_normal((5,5))\n",
    "df = pd.DataFrame(arr)\n",
    "df"
   ]
  },
  {
   "cell_type": "code",
   "execution_count": null,
   "id": "482c6d0f",
   "metadata": {
    "scrolled": true
   },
   "outputs": [],
   "source": [
    "plt.pcolor(df,cmap='Blues')\n",
    "plt.colorbar()"
   ]
  },
  {
   "cell_type": "code",
   "execution_count": null,
   "id": "e16f1a86",
   "metadata": {
    "scrolled": true
   },
   "outputs": [],
   "source": [
    "import seaborn as sns\n",
    "titanic = sns.load_dataset('titanic')\n",
    "titanic"
   ]
  },
  {
   "cell_type": "code",
   "execution_count": null,
   "id": "4146b424",
   "metadata": {
    "scrolled": true
   },
   "outputs": [],
   "source": [
    "titanic.isnull().sum()"
   ]
  },
  {
   "cell_type": "code",
   "execution_count": null,
   "id": "e236a7d9",
   "metadata": {},
   "outputs": [],
   "source": [
    "# 컬럼삭제\n",
    "titanic = titanic.drop(columns=['deck'])"
   ]
  },
  {
   "cell_type": "code",
   "execution_count": null,
   "id": "cbc16573",
   "metadata": {},
   "outputs": [],
   "source": [
    "# 결측치 제거\n",
    "titanic = titanic.dropna()"
   ]
  },
  {
   "cell_type": "code",
   "execution_count": null,
   "id": "d7c281c1",
   "metadata": {},
   "outputs": [],
   "source": [
    "titanic"
   ]
  },
  {
   "cell_type": "code",
   "execution_count": null,
   "id": "6b801765",
   "metadata": {
    "scrolled": true
   },
   "outputs": [],
   "source": [
    "# 연령대 컬럼 생성\n",
    "titanic['agerange'] = (titanic['age']/10).astype('int')*10\n",
    "titanic"
   ]
  },
  {
   "cell_type": "code",
   "execution_count": null,
   "id": "6b0b5212",
   "metadata": {
    "scrolled": false
   },
   "outputs": [],
   "source": [
    "titanic_pivot = titanic.pivot_table(index='class', columns='agerange', values='survived',aggfunc='count')\n",
    "titanic_pivot"
   ]
  },
  {
   "cell_type": "code",
   "execution_count": null,
   "id": "3608198b",
   "metadata": {},
   "outputs": [],
   "source": [
    "np.arange(0.5,len(titanic_pivot.columns),1 )"
   ]
  },
  {
   "cell_type": "code",
   "execution_count": null,
   "id": "84f3869b",
   "metadata": {
    "scrolled": true
   },
   "outputs": [],
   "source": [
    "# 히트맵\n",
    "plt.pcolor(titanic_pivot)\n",
    "plt.colorbar()\n",
    "\n",
    "plt.xticks(np.arange(0.5,len(titanic_pivot.columns),1 ), labels = titanic_pivot.columns)\n",
    "plt.yticks(np.arange(0.5,len(titanic_pivot.index),1 ), labels = titanic_pivot.index)\n",
    "plt.show()"
   ]
  },
  {
   "cell_type": "code",
   "execution_count": null,
   "id": "a795eb5c",
   "metadata": {
    "scrolled": true
   },
   "outputs": [],
   "source": [
    "sns.heatmap(titanic_pivot)"
   ]
  },
  {
   "cell_type": "markdown",
   "id": "ccf41788",
   "metadata": {},
   "source": [
    "# 히스토그램"
   ]
  },
  {
   "cell_type": "code",
   "execution_count": null,
   "id": "04f094de",
   "metadata": {},
   "outputs": [],
   "source": [
    "# 데이터\n",
    "scores = [0,10,15,15,15,16,19,20,21,25,25,26,26,29,30,35,36,37,39,40,41,41,44,45,45,45,45,47,\n",
    "          50,50,50,50,51,51,51,53,54,55,55,56,60,61,62,62,63,64,65,65,65,65,66,66,66,66,66,\n",
    "          67,68,68,69,70,70,70,70,70,70,70,70,71,71,71,71,71,72,72,72,72,73,74,74,74,75,75,\n",
    "          76,76,76,77,77,77,77,78,78,78,78,78,79,79,79,79,80,80,80,80,80,80,81,81,81,82,82,\n",
    "          85,85,85,88,88,89,90,90,90,93,93,95,95,95,97,100]"
   ]
  },
  {
   "cell_type": "code",
   "execution_count": null,
   "id": "7e431cbf",
   "metadata": {},
   "outputs": [],
   "source": [
    "len(scores)"
   ]
  },
  {
   "cell_type": "code",
   "execution_count": null,
   "id": "2a32ff53",
   "metadata": {
    "scrolled": true
   },
   "outputs": [],
   "source": [
    "plt.hist(scores)"
   ]
  },
  {
   "cell_type": "code",
   "execution_count": null,
   "id": "0abff2d8",
   "metadata": {
    "scrolled": true
   },
   "outputs": [],
   "source": [
    "plt.hist(scores, bins=20, cumulative=True)"
   ]
  },
  {
   "cell_type": "code",
   "execution_count": null,
   "id": "e20426a8",
   "metadata": {
    "scrolled": true
   },
   "outputs": [],
   "source": [
    "plt.hist(scores, bins=10,  range=(50,90))"
   ]
  },
  {
   "cell_type": "code",
   "execution_count": null,
   "id": "a12650bf",
   "metadata": {
    "scrolled": true
   },
   "outputs": [],
   "source": [
    "plt.hist(scores, density=True, cumulative=True)"
   ]
  },
  {
   "cell_type": "code",
   "execution_count": null,
   "id": "be43902e",
   "metadata": {
    "scrolled": true
   },
   "outputs": [],
   "source": [
    "# 가로 히스토그램\n",
    "plt.hist(scores, orientation='horizontal')"
   ]
  },
  {
   "cell_type": "code",
   "execution_count": null,
   "id": "492401a7",
   "metadata": {
    "scrolled": true
   },
   "outputs": [],
   "source": [
    "# 선만 표시\n",
    "plt.hist(scores, histtype='step')"
   ]
  },
  {
   "cell_type": "code",
   "execution_count": null,
   "id": "00a08760",
   "metadata": {},
   "outputs": [],
   "source": [
    "plt.hist(scores, rwidth=0.9, color='b', alpha=0.5, ec='k', lw=2, ls=':', hatch='/')\n",
    "plt.xticks(range(0,101,10))\n",
    "plt.grid(axis='y',ls=':')\n",
    "plt.xlabel('점수')\n",
    "plt.ylabel('인원')\n",
    "plt.title('점수대별 인원 분포', fontsize=20)\n",
    "plt.show()"
   ]
  },
  {
   "cell_type": "markdown",
   "id": "a179f215",
   "metadata": {},
   "source": [
    "# 박스플롯"
   ]
  },
  {
   "cell_type": "code",
   "execution_count": null,
   "id": "1d43ec99",
   "metadata": {},
   "outputs": [],
   "source": [
    "import matplotlib.pyplot as plt\n",
    "import pandas as pd"
   ]
  },
  {
   "cell_type": "code",
   "execution_count": null,
   "id": "f3588c1a",
   "metadata": {},
   "outputs": [],
   "source": [
    "# 그래프에 한글 설정\n",
    "plt.rcParams['font.family'] = 'Malgun Gothic'\n",
    "\n",
    "# 그래프에 마이너스 기호 깨지는 문제 해결\n",
    "plt.rcParams['axes.unicode_minus'] = False"
   ]
  },
  {
   "cell_type": "code",
   "execution_count": null,
   "id": "d371be4d",
   "metadata": {},
   "outputs": [],
   "source": [
    "scores = pd.Series([0,10,15,15,15,16,19,20,21,25,25,26,26,29,30,35,36,37,39,40,41,41,44,45,45,45,45,47,\n",
    "          50,50,50,50,51,51,51,53,54,55,55,56,60,61,62,62,63,64,65,65,65,65,66,66,66,66,66,\n",
    "          67,68,68,69,70,70,70,70,70,70,70,70,71,71,71,71,71,72,72,72,72,73,74,74,74,75,75,\n",
    "          76,76,76,77,77,77,77,78,78,78,78,78,79,79,79,79,80,80,80,80,80,80,81,81,81,82,82,\n",
    "          85,85,85,88,88,89,90,90,90,93,93,95,95,95,97,100])"
   ]
  },
  {
   "cell_type": "code",
   "execution_count": null,
   "id": "cd7338d1",
   "metadata": {},
   "outputs": [],
   "source": [
    "scores.describe()"
   ]
  },
  {
   "cell_type": "code",
   "execution_count": null,
   "id": "c7617296",
   "metadata": {},
   "outputs": [],
   "source": [
    "# 이상치 구하기\n",
    "q1 = scores.quantile(.25)\n",
    "print('1/4 지점의 값:', q1)\n",
    "\n",
    "q3 = scores.quantile(.75)\n",
    "print('3/4 지점의 값:', q3)\n",
    "\n",
    "# 이상치\n",
    "print('이상치:', q1 - 1.5*(q3-q1), '미만')\n",
    "\n",
    "# 3/4 지점의 값+1.5 \n",
    "print('이상치:',q3+1.5*(q3-q1), '이상')"
   ]
  },
  {
   "cell_type": "code",
   "execution_count": null,
   "id": "1e147630",
   "metadata": {
    "scrolled": true
   },
   "outputs": [],
   "source": [
    "plt.boxplot(scores)"
   ]
  },
  {
   "cell_type": "code",
   "execution_count": null,
   "id": "f720835a",
   "metadata": {
    "scrolled": true
   },
   "outputs": [],
   "source": [
    "plt.boxplot(scores, showmeans=True, meanline=True)"
   ]
  },
  {
   "cell_type": "code",
   "execution_count": null,
   "id": "6939370a",
   "metadata": {
    "scrolled": true
   },
   "outputs": [],
   "source": [
    "# 수평 박스플롯\n",
    "plt.boxplot(scores, showmeans=True, meanline=True, vert=False)"
   ]
  },
  {
   "cell_type": "code",
   "execution_count": null,
   "id": "019722f0",
   "metadata": {
    "scrolled": true
   },
   "outputs": [],
   "source": [
    "import seaborn as sns\n",
    "iris = sns.load_dataset('iris')\n",
    "iris.head()"
   ]
  },
  {
   "cell_type": "code",
   "execution_count": null,
   "id": "44d0b903",
   "metadata": {
    "scrolled": true
   },
   "outputs": [],
   "source": [
    "# 여러개의 데이터 비교\n",
    "plt.boxplot([iris['sepal_length'], iris['sepal_width'], iris['petal_length'], iris['petal_width']]\n",
    "           , labels=['sepal_length','sepal_width','petal_length','petal_width']\n",
    "           , showmeans=True)\n",
    "plt.grid(axis='y')\n",
    "plt.show()"
   ]
  },
  {
   "cell_type": "markdown",
   "id": "13372e30",
   "metadata": {},
   "source": [
    "# 바이올린플롯"
   ]
  },
  {
   "cell_type": "code",
   "execution_count": null,
   "id": "73633708",
   "metadata": {},
   "outputs": [],
   "source": [
    "plt.violinplot(scores)"
   ]
  },
  {
   "cell_type": "code",
   "execution_count": null,
   "id": "ffa314b6",
   "metadata": {
    "scrolled": false
   },
   "outputs": [],
   "source": [
    "plt.violinplot(scores, showextrema=True, showmeans=True, showmedians=True)\n",
    "plt.show()"
   ]
  },
  {
   "cell_type": "code",
   "execution_count": null,
   "id": "7c97c566",
   "metadata": {
    "scrolled": true
   },
   "outputs": [],
   "source": [
    "v1 = plt.violinplot(scores, showextrema=True, showmeans=True, showmedians=True\n",
    "              , quantiles=[0.25,0.75])\n",
    "plt.show()"
   ]
  },
  {
   "cell_type": "code",
   "execution_count": null,
   "id": "96165be6",
   "metadata": {
    "scrolled": true
   },
   "outputs": [],
   "source": [
    "v1 = plt.violinplot(scores, showextrema=True, showmeans=True, showmedians=True\n",
    "              , quantiles=[0.25,0.75])\n",
    "v1['bodies'][0].set_facecolor('r')\n",
    "v1['cmins'].set_edgecolor('g')\n",
    "v1['cmaxes'].set_edgecolor('g')\n",
    "v1['cbars'].set_edgecolor('k')\n",
    "v1['cmedians'].set_edgecolor('r')\n",
    "v1['cquantiles'].set_edgecolor('w')\n",
    "v1['cmeans'].set_edgecolor('y')\n",
    "plt.show()"
   ]
  },
  {
   "cell_type": "code",
   "execution_count": null,
   "id": "fdb79416",
   "metadata": {
    "scrolled": true
   },
   "outputs": [],
   "source": [
    "plt.violinplot([iris['sepal_length'], iris['sepal_width'], iris['petal_length'], iris['petal_width']])\n",
    "plt.xticks(range(1,5,1), labels=['sepal_length','sepal_width','petal_length','petal_width'])\n",
    "plt.show()"
   ]
  },
  {
   "cell_type": "code",
   "execution_count": null,
   "id": "075aae09",
   "metadata": {
    "scrolled": true
   },
   "outputs": [],
   "source": [
    "plt.violinplot([iris['sepal_length'], iris['sepal_width'], iris['petal_length'], iris['petal_width']]\n",
    "              , showmeans=True, showmedians=True\n",
    "              , quantiles=[[0.25,0.75],[0.25,0.75],[0.25,0.75],[0.25,0.75]])\n",
    "plt.xticks(range(1,5,1), labels=['sepal_length','sepal_width','petal_length','petal_width'])\n",
    "plt.show()"
   ]
  },
  {
   "cell_type": "code",
   "execution_count": null,
   "id": "dc6c4c6b",
   "metadata": {
    "scrolled": true
   },
   "outputs": [],
   "source": [
    "v2 = plt.violinplot([iris['sepal_length'], iris['sepal_width'], iris['petal_length'], iris['petal_width']]\n",
    "              , showmeans=True, showmedians=True\n",
    "              , quantiles=[[0.25,0.75],[0.25,0.75],[0.25,0.75],[0.25,0.75]])\n",
    "\n",
    "v2['bodies'][0].set_facecolor('r')\n",
    "v2['bodies'][1].set_facecolor('g')\n",
    "v2['bodies'][2].set_facecolor('b')\n",
    "v2['bodies'][3].set_facecolor('c')\n",
    "v2['cmins'].set_edgecolor('r')\n",
    "v2['cmaxes'].set_edgecolor('r')\n",
    "\n",
    "plt.xticks(range(1,5,1), labels=['sepal_length','sepal_width','petal_length','petal_width'])\n",
    "plt.show()"
   ]
  },
  {
   "cell_type": "markdown",
   "id": "6b218f1a",
   "metadata": {},
   "source": [
    "# 파이차트"
   ]
  },
  {
   "cell_type": "code",
   "execution_count": null,
   "id": "ab97aeb1",
   "metadata": {},
   "outputs": [],
   "source": [
    "# 2019년 병역판정검사 - 혈액형 분포\n",
    "blood_type = ['A','B','O','AB']\n",
    "Personnel = [111901,87066,86804,36495]"
   ]
  },
  {
   "cell_type": "code",
   "execution_count": null,
   "id": "3d5be6b3",
   "metadata": {
    "scrolled": true
   },
   "outputs": [],
   "source": [
    "plt.pie(Personnel, labels=blood_type, labeldistance = 1.2, autopct = '%.1f%%', pctdistance=0.6\n",
    "       , explode=[0.1,0,0,0]\n",
    "       , colors =['lightcoral', 'gold', 'greenyellow', 'skyblue']\n",
    "       , startangle = 90\n",
    "       , counterclock = False\n",
    "       , radius=1\n",
    "       , wedgeprops = {'ec':'k', 'lw':2,'ls':':', 'width':0.7})\n",
    "plt.legend(loc=(1,0.5))\n",
    "plt.show()"
   ]
  },
  {
   "cell_type": "markdown",
   "id": "acad3553",
   "metadata": {},
   "source": [
    "# 공통 스타일 지정하기"
   ]
  },
  {
   "cell_type": "code",
   "execution_count": null,
   "id": "d2bacc8a",
   "metadata": {},
   "outputs": [],
   "source": [
    "# 그래프에 한글폰트 설정\n",
    "plt.rcParams['font.family']='Malgun Gothic'\n",
    "\n",
    "# 그래프에 마이너스 기호 깨지는 문제 해결\n",
    "plt.rcParams['axes.unicode_minus'] = False"
   ]
  },
  {
   "cell_type": "code",
   "execution_count": null,
   "id": "cf4dbcd1",
   "metadata": {
    "scrolled": true
   },
   "outputs": [],
   "source": [
    "plt.rcParams"
   ]
  },
  {
   "cell_type": "code",
   "execution_count": null,
   "id": "f3c5f4fa",
   "metadata": {},
   "outputs": [],
   "source": [
    "# figure 크기\n",
    "plt.rcParams['figure.figsize']=(9,4)\n",
    "\n",
    "# 그래프 테두리 두께\n",
    "plt.rcParams['axes.edgecolor'] = 'navy'\n",
    "\n",
    "# 그래프 바탕 색\n",
    "plt.rcParams['axes.facecolor'] = 'ghostwhite'\n",
    "\n",
    "# 그리드 표시\n",
    "plt.rcParams['axes.grid'] = True"
   ]
  },
  {
   "cell_type": "code",
   "execution_count": null,
   "id": "9eff9699",
   "metadata": {},
   "outputs": [],
   "source": [
    "# 그래프 제목\n",
    "plt.rcParams['axes.titlecolor'] = 'navy'\n",
    "plt.rcParams['axes.titlesize'] = 15\n",
    "plt.rcParams['axes.titleweight']='bold'"
   ]
  },
  {
   "cell_type": "code",
   "execution_count": null,
   "id": "10892568",
   "metadata": {},
   "outputs": [],
   "source": [
    "# 레이블\n",
    "plt.rcParams['axes.labelcolor'] = 'gray'\n",
    "plt.rcParams['axes.labelsize'] = 12"
   ]
  },
  {
   "cell_type": "code",
   "execution_count": null,
   "id": "1e3ee8df",
   "metadata": {},
   "outputs": [],
   "source": [
    "# 그리드\n",
    "plt.rcParams['grid.alpha'] = 0.3\n",
    "plt.rcParams['grid.color'] = 'skyblue'\n",
    "plt.rcParams['grid.linestyle'] ='--'"
   ]
  },
  {
   "cell_type": "code",
   "execution_count": null,
   "id": "02167343",
   "metadata": {},
   "outputs": [],
   "source": [
    "# 폰트\n",
    "plt.rcParams['font.size']=12"
   ]
  },
  {
   "cell_type": "code",
   "execution_count": null,
   "id": "d857778b",
   "metadata": {},
   "outputs": [],
   "source": [
    "# 눈금\n",
    "plt.rcParams['xtick.top'] = True\n",
    "plt.rcParams['ytick.right'] = True\n",
    "plt.rcParams['xtick.direction'] = 'in'\n",
    "plt.rcParams['ytick.direction'] = 'in'\n",
    "plt.rcParams['xtick.major.size'] = 10\n",
    "plt.rcParams['ytick.major.size'] = 10"
   ]
  },
  {
   "cell_type": "code",
   "execution_count": null,
   "id": "c33107fb",
   "metadata": {},
   "outputs": [],
   "source": [
    "# 선\n",
    "plt.rcParams['lines.linewidth']=3\n",
    "plt.rcParams['lines.linestyle']='--'\n",
    "plt.rcParams['lines.marker'] ='o'"
   ]
  },
  {
   "cell_type": "code",
   "execution_count": null,
   "id": "c35e2191",
   "metadata": {},
   "outputs": [],
   "source": [
    "# 패턴\n",
    "plt.rcParams['hatch.linewidth']=3\n",
    "plt.rcParams['hatch.color'] = 'w'"
   ]
  },
  {
   "cell_type": "code",
   "execution_count": null,
   "id": "fd58988f",
   "metadata": {},
   "outputs": [],
   "source": [
    "# 박스\n",
    "plt.rcParams['boxplot.boxprops.color'] = 'b'\n",
    "plt.rcParams['boxplot.boxprops.linewidth'] = 2\n",
    "\n",
    "# 최대값, 최소값\n",
    "plt.rcParams['boxplot.capprops.color'] = 'r'\n",
    "plt.rcParams['boxplot.capprops.linewidth'] = 2\n",
    "\n",
    "# 평균\n",
    "plt.rcParams['boxplot.showmeans'] = True"
   ]
  },
  {
   "cell_type": "code",
   "execution_count": null,
   "id": "7d49e818",
   "metadata": {},
   "outputs": [],
   "source": [
    "df1 = pd.DataFrame({'요일':['월','화','수','목','금','토','일'], \n",
    "                   '매출액':[10000,9000,11000,8000,13000,15000,14000]})"
   ]
  },
  {
   "cell_type": "code",
   "execution_count": null,
   "id": "ce8d8291",
   "metadata": {
    "scrolled": false
   },
   "outputs": [],
   "source": [
    "plt.plot(df1['요일'],df1['매출액'])\n",
    "plt.title('요일별 매출액')\n",
    "plt.xlabel('요일')\n",
    "plt.ylabel('매출액(만원)')\n",
    "plt.show()"
   ]
  },
  {
   "cell_type": "code",
   "execution_count": null,
   "id": "1175090c",
   "metadata": {
    "scrolled": false
   },
   "outputs": [],
   "source": [
    "plt.bar(df1['요일'],df1['매출액'], hatch='/')\n",
    "plt.title('요일별 매출액')\n",
    "plt.xlabel('요일')\n",
    "plt.ylabel('매출액(만원)')\n",
    "plt.show()"
   ]
  },
  {
   "cell_type": "code",
   "execution_count": null,
   "id": "5683d4bb",
   "metadata": {},
   "outputs": [],
   "source": [
    "scores = pd.Series([0,10,15,15,15,16,19,20,21,25,25,26,26,29,30,35,36,37,39,40,41,41,44,45,45,45,45,47,\n",
    "          50,50,50,50,51,51,51,53,54,55,55,56,60,61,62,62,63,64,65,65,65,65,66,66,66,66,66,\n",
    "          67,68,68,69,70,70,70,70,70,70,70,70,71,71,71,71,71,72,72,72,72,73,74,74,74,75,75,\n",
    "          76,76,76,77,77,77,77,78,78,78,78,78,79,79,79,79,80,80,80,80,80,80,81,81,81,82,82,\n",
    "          85,85,85,88,88,89,90,90,90,93,93,95,95,95,97,100])"
   ]
  },
  {
   "cell_type": "code",
   "execution_count": null,
   "id": "9cca9310",
   "metadata": {
    "scrolled": true
   },
   "outputs": [],
   "source": [
    "plt.boxplot(scores)\n",
    "plt.title('성적 분포')\n",
    "plt.ylabel('점수')\n",
    "plt.show()"
   ]
  },
  {
   "cell_type": "markdown",
   "id": "67b3a0c0",
   "metadata": {},
   "source": [
    "# 그래프 강조하기"
   ]
  },
  {
   "cell_type": "code",
   "execution_count": null,
   "id": "362f5d6c",
   "metadata": {},
   "outputs": [],
   "source": [
    "import pandas as pd\n",
    "import matplotlib.pyplot as plt"
   ]
  },
  {
   "cell_type": "code",
   "execution_count": null,
   "id": "7ceeac59",
   "metadata": {},
   "outputs": [],
   "source": [
    "# 그래프에 한글폰트 설정\n",
    "plt.rcParams['font.family']='Malgun Gothic'\n",
    "\n",
    "# 그래프에 마이너스 기호 깨지는 문제 해결\n",
    "plt.rcParams['axes.unicode_minus'] = False"
   ]
  },
  {
   "cell_type": "code",
   "execution_count": null,
   "id": "46af94ce",
   "metadata": {},
   "outputs": [],
   "source": [
    "# 그리드 스타일 : 라인스타일'--', 투명도0.3\n",
    "plt.rcParams['grid.linestyle'] = '--'\n",
    "plt.rcParams['grid.alpha'] = 0.3\n",
    "\n",
    "# 폰트 사이즈 12\n",
    "plt.rcParams['font.size']=12"
   ]
  },
  {
   "cell_type": "code",
   "execution_count": null,
   "id": "416fdfe5",
   "metadata": {
    "scrolled": true
   },
   "outputs": [],
   "source": [
    "x = [1,2,3,4]  \n",
    "y = [1,4,3,6]\n",
    "plt.plot(x,y)\n",
    "# 가로방향 색깔 채우기\n",
    "plt.fill_between(x[1:3], y[1:3], color='skyblue', alpha=0.5, hatch='/')\n",
    "plt.show()"
   ]
  },
  {
   "cell_type": "code",
   "execution_count": null,
   "id": "29658510",
   "metadata": {},
   "outputs": [],
   "source": [
    "x = [1,2,3,4]  \n",
    "y = [1,4,3,6]\n",
    "plt.plot(x,y)\n",
    "# 세로방향 채우기\n",
    "plt.fill_betweenx(y[:2], x[:2], alpha=0.4)\n",
    "\n",
    "plt.show()"
   ]
  },
  {
   "cell_type": "code",
   "execution_count": null,
   "id": "6eebf985",
   "metadata": {
    "scrolled": true
   },
   "outputs": [],
   "source": [
    "x = [1,2,3,4]\n",
    "y1 = [1,3,4,6]\n",
    "y2 = [2,4,7,9]\n",
    "\n",
    "plt.plot(x,y1)\n",
    "plt.plot(x,y2)\n",
    "\n",
    "plt.fill_between(x[1:3], y1[1:3], y2[1:3], color='darkorange')\n",
    "plt.show()"
   ]
  },
  {
   "cell_type": "code",
   "execution_count": null,
   "id": "a38e4bd4",
   "metadata": {},
   "outputs": [],
   "source": [
    "x = [1,2,3,4]\n",
    "y = [1,4,3,6]\n",
    "plt.plot(x,y)\n",
    "plt.grid()\n",
    "plt.fill([1.75,2.25,2.25,1.75],[3.5,3.5,4.5,4.5], alpha=0.1)\n",
    "plt.fill([2.75, 3.25, 3.0],[2.5, 2.5, 3.5], color='pink')\n",
    "plt.show()"
   ]
  },
  {
   "cell_type": "markdown",
   "id": "e7426c08",
   "metadata": {},
   "source": [
    "# 그래프 강조하기-수직,수평선"
   ]
  },
  {
   "cell_type": "code",
   "execution_count": null,
   "id": "70bcfc2a",
   "metadata": {
    "scrolled": true
   },
   "outputs": [],
   "source": [
    "# 수평선 그리기\n",
    "plt.plot([1,2,3,4],'ko')\n",
    "\n",
    "plt.axhline(2,0.1,0.9, color='b', ls=':')\n",
    "\n",
    "plt.hlines(3, 0.0, 3.0, color='darkorange', ls='-.')\n",
    "\n",
    "plt.show()"
   ]
  },
  {
   "cell_type": "code",
   "execution_count": null,
   "id": "347ac770",
   "metadata": {
    "scrolled": true
   },
   "outputs": [],
   "source": [
    "# 수직선 그리기\n",
    "plt.plot([1,2,3,4,], 'ko')\n",
    "\n",
    "plt.axvline(1,0,0.5, ls='--', color='r')\n",
    "plt.vlines(2,1.0,3.0, ls=':', color='g')\n",
    "plt.show()"
   ]
  },
  {
   "cell_type": "code",
   "execution_count": null,
   "id": "ab4f582e",
   "metadata": {},
   "outputs": [],
   "source": [
    "import seaborn as sns\n",
    "tips = sns.load_dataset('tips')\n",
    "tips.head(3)"
   ]
  },
  {
   "cell_type": "code",
   "execution_count": null,
   "id": "8ae7f3ce",
   "metadata": {},
   "outputs": [],
   "source": [
    "s = tips['day'].value_counts()\n",
    "s"
   ]
  },
  {
   "cell_type": "code",
   "execution_count": null,
   "id": "7c920d54",
   "metadata": {
    "scrolled": true
   },
   "outputs": [],
   "source": [
    "plt.figure(figsize=(15,3))\n",
    "plt.barh(s.index, s.values)\n",
    "plt.xticks(range(0,91,1), rotation=90)\n",
    "plt.grid(axis='y')\n",
    "plt.axvline(s['Fri'],color='k',ls='-')\n",
    "plt.axvline(s['Thur'],color='k',ls='-')\n",
    "plt.axvline(s['Sun'],color='k',ls='-')\n",
    "plt.axvline(s['Sat'],color='k',ls='-')\n",
    "\n",
    "\n",
    "plt.show()"
   ]
  },
  {
   "cell_type": "markdown",
   "id": "74a67f23",
   "metadata": {},
   "source": [
    "# 그래프에 설명적기"
   ]
  },
  {
   "cell_type": "code",
   "execution_count": null,
   "id": "dcd5b96e",
   "metadata": {
    "scrolled": true
   },
   "outputs": [],
   "source": [
    "plt.plot([1,2,3,4], 'ko')\n",
    "plt.text(2,3,'(x:2, y:3)', ha='left', va='bottom', fontsize=12, rotation=45\n",
    "    , bbox={'boxstyle':'round', 'fc': 'skyblue', 'ec':'b', 'alpha':0.3})\n",
    "plt.axhline(3, ls=':', alpha=0.5, lw=0.5)\n",
    "plt.axvline(2, ls=':', alpha=0.5, lw=0.5)\n",
    "plt.plot(2,3,'ro')\n",
    "plt.show()"
   ]
  },
  {
   "cell_type": "code",
   "execution_count": null,
   "id": "804554ef",
   "metadata": {
    "scrolled": true
   },
   "outputs": [],
   "source": [
    "plt.plot([1,2,3,4], 'ko')\n",
    "plt.axhline(2, color='orange', lw=0.5, alpha=0.5, ls='--')\n",
    "plt.axvline(1, color='orange', lw=0.5, alpha=0.5, ls='--')\n",
    "plt.plot(1,2,'ro')\n",
    "\n",
    "plt.annotate('(x:1,y:2)',xy=(1,2),xytext=(1.5,2.5)\n",
    "             , arrowprops={'width':4, 'headwidth':10, 'headlength':10, 'shrink' :0.1})\n",
    "plt.show()"
   ]
  },
  {
   "cell_type": "markdown",
   "id": "4728ac5d",
   "metadata": {},
   "source": [
    "# 2중 y축 표시하기"
   ]
  },
  {
   "cell_type": "code",
   "execution_count": 1,
   "id": "9480af62",
   "metadata": {},
   "outputs": [],
   "source": [
    "import pandas as pd\n",
    "import matplotlib.pyplot as plt"
   ]
  },
  {
   "cell_type": "code",
   "execution_count": 2,
   "id": "5427da51",
   "metadata": {},
   "outputs": [],
   "source": [
    "plt.rcParams['font.family']='Malgun Gothic'\n",
    "plt.rcParams['axes.unicode_minus']=False\n",
    "\n",
    "plt.rcParams['font.size'] = 12"
   ]
  },
  {
   "cell_type": "code",
   "execution_count": 3,
   "id": "8b926936",
   "metadata": {},
   "outputs": [],
   "source": [
    "age = [13,14,15,16,17]\n",
    "height = [160,165,170,173,177]\n",
    "weight = [80,85,83,78,73]"
   ]
  },
  {
   "cell_type": "code",
   "execution_count": 12,
   "id": "1faa21fb",
   "metadata": {},
   "outputs": [
    {
     "data": {
      "image/png": "[encoded data removed]",
      "text/plain": [
       "<Figure size 640x480 with 1 Axes>"
      ]
     },
     "metadata": {},
     "output_type": "display_data"
    }
   ],
   "source": [
    "fig, ax = plt.subplots()\n",
    "ax.bar(age, height, color='skyblue', width=0.5, ec='lightgray')\n",
    "ax.plot(age, weight, color='darkred', marker='o', ls='-.', label='weight')\n",
    "plt.legend()\n",
    "plt.show()"
   ]
  },
  {
   "cell_type": "code",
   "execution_count": 15,
   "id": "0973b4e0",
   "metadata": {},
   "outputs": [
    {
     "data": {
      "image/png": "[encoded data removed]",
      "text/plain": [
       "<Figure size 640x480 with 2 Axes>"
      ]
     },
     "metadata": {},
     "output_type": "display_data"
    }
   ],
   "source": [
    "fig, ax1 = plt.subplots()\n",
    "ax1.bar(age, height, color='skyblue', width=0.5, ec='lightgray')\n",
    "ax2 = ax1.twinx()\n",
    "ax2.plot(age, weight, color='darkred', marker='o', ls='-.', label='weight')\n",
    "\n",
    "plt.show()"
   ]
  },
  {
   "cell_type": "code",
   "execution_count": 17,
   "id": "7e57248e",
   "metadata": {
    "scrolled": true
   },
   "outputs": [
    {
     "data": {
      "image/png": "[encoded data removed]",
      "text/plain": [
       "<Figure size 640x480 with 2 Axes>"
      ]
     },
     "metadata": {},
     "output_type": "display_data"
    }
   ],
   "source": [
    "fig, ax1 = plt.subplots()\n",
    "ax1.bar(age, height, color='skyblue', width=0.5, ec='lightgray')\n",
    "ax2 = ax1.twinx()\n",
    "ax2.plot(age, weight, color='darkred', marker='o', ls='-.', label='weight')\n",
    "\n",
    "ax1.set_xlabel('나이')\n",
    "ax1.set_ylabel('키(cm)')\n",
    "ax2.set_ylabel('몸무게(kg)')\n",
    "\n",
    "plt.show()"
   ]
  },
  {
   "cell_type": "code",
   "execution_count": 23,
   "id": "20de182c",
   "metadata": {},
   "outputs": [
    {
     "name": "stderr",
     "output_type": "stream",
     "text": [
      "No artists with labels found to put in legend.  Note that artists whose label start with an underscore are ignored when legend() is called with no argument.\n"
     ]
    },
    {
     "data": {
      "image/png": "[encoded data removed]",
      "text/plain": [
       "<Figure size 640x480 with 2 Axes>"
      ]
     },
     "metadata": {},
     "output_type": "display_data"
    }
   ],
   "source": [
    "fig, ax1 = plt.subplots()\n",
    "ax1.bar(age, height, color='skyblue', width=0.5, ec='lightgray')\n",
    "ax2 = ax1.twinx()\n",
    "ax2.plot(age, weight, color='darkred', marker='o', ls='-.', label='weight')\n",
    "\n",
    "ax1.set_xlabel('나이')\n",
    "ax1.set_ylabel('키(cm)')\n",
    "ax2.set_ylabel('몸무게(kg)')\n",
    "\n",
    "ax1.set_ylim(150,180)\n",
    "ax2.set_ylim(60,90)\n",
    "\n",
    "ax1.set_yticks(height)\n",
    "ax2.set_yticks(weight)\n",
    "\n",
    "ax1.tick_params(axis='y',colors='skyblue')\n",
    "ax2.tick_params(axis='y',colors='r')\n",
    "\n",
    "ax1.legend()\n",
    "ax2.legend()\n",
    "\n",
    "ax1.grid(axis='y', ls='--', color='skyblue')\n",
    "plt.show()"
   ]
  },
  {
   "cell_type": "markdown",
   "id": "99fed2ec",
   "metadata": {},
   "source": [
    "# seaborn 막대그래프"
   ]
  },
  {
   "cell_type": "code",
   "execution_count": 24,
   "id": "26534e86",
   "metadata": {},
   "outputs": [],
   "source": [
    "import pandas as pd\n",
    "import matplotlib.pyplot as plt\n",
    "import seaborn as sns"
   ]
  },
  {
   "cell_type": "code",
   "execution_count": 25,
   "id": "e5b3185c",
   "metadata": {},
   "outputs": [],
   "source": [
    "plt.rcParams['font.family']='Malgun Gothic'\n",
    "plt.rcParams['axes.unicode_minus']=False"
   ]
  },
  {
   "cell_type": "code",
   "execution_count": 26,
   "id": "901dd10c",
   "metadata": {},
   "outputs": [],
   "source": [
    "tips = sns.load_dataset('tips')"
   ]
  },
  {
   "cell_type": "code",
   "execution_count": 27,
   "id": "c324270e",
   "metadata": {
    "scrolled": true
   },
   "outputs": [
    {
     "data": {
      "text/html": [
       "<div>\n",
       "<style scoped>\n",
       "    .dataframe tbody tr th:only-of-type {\n",
       "        vertical-align: middle;\n",
       "    }\n",
       "\n",
       "    .dataframe tbody tr th {\n",
       "        vertical-align: top;\n",
       "    }\n",
       "\n",
       "    .dataframe thead th {\n",
       "        text-align: right;\n",
       "    }\n",
       "</style>\n",
       "<table border=\"1\" class=\"dataframe\">\n",
       "  <thead>\n",
       "    <tr style=\"text-align: right;\">\n",
       "      <th></th>\n",
       "      <th>total_bill</th>\n",
       "      <th>tip</th>\n",
       "      <th>sex</th>\n",
       "      <th>smoker</th>\n",
       "      <th>day</th>\n",
       "      <th>time</th>\n",
       "      <th>size</th>\n",
       "    </tr>\n",
       "  </thead>\n",
       "  <tbody>\n",
       "    <tr>\n",
       "      <th>0</th>\n",
       "      <td>16.99</td>\n",
       "      <td>1.01</td>\n",
       "      <td>Female</td>\n",
       "      <td>No</td>\n",
       "      <td>Sun</td>\n",
       "      <td>Dinner</td>\n",
       "      <td>2</td>\n",
       "    </tr>\n",
       "    <tr>\n",
       "      <th>1</th>\n",
       "      <td>10.34</td>\n",
       "      <td>1.66</td>\n",
       "      <td>Male</td>\n",
       "      <td>No</td>\n",
       "      <td>Sun</td>\n",
       "      <td>Dinner</td>\n",
       "      <td>3</td>\n",
       "    </tr>\n",
       "    <tr>\n",
       "      <th>2</th>\n",
       "      <td>21.01</td>\n",
       "      <td>3.50</td>\n",
       "      <td>Male</td>\n",
       "      <td>No</td>\n",
       "      <td>Sun</td>\n",
       "      <td>Dinner</td>\n",
       "      <td>3</td>\n",
       "    </tr>\n",
       "    <tr>\n",
       "      <th>3</th>\n",
       "      <td>23.68</td>\n",
       "      <td>3.31</td>\n",
       "      <td>Male</td>\n",
       "      <td>No</td>\n",
       "      <td>Sun</td>\n",
       "      <td>Dinner</td>\n",
       "      <td>2</td>\n",
       "    </tr>\n",
       "    <tr>\n",
       "      <th>4</th>\n",
       "      <td>24.59</td>\n",
       "      <td>3.61</td>\n",
       "      <td>Female</td>\n",
       "      <td>No</td>\n",
       "      <td>Sun</td>\n",
       "      <td>Dinner</td>\n",
       "      <td>4</td>\n",
       "    </tr>\n",
       "  </tbody>\n",
       "</table>\n",
       "</div>"
      ],
      "text/plain": [
       "   total_bill   tip     sex smoker  day    time  size\n",
       "0       16.99  1.01  Female     No  Sun  Dinner     2\n",
       "1       10.34  1.66    Male     No  Sun  Dinner     3\n",
       "2       21.01  3.50    Male     No  Sun  Dinner     3\n",
       "3       23.68  3.31    Male     No  Sun  Dinner     2\n",
       "4       24.59  3.61  Female     No  Sun  Dinner     4"
      ]
     },
     "execution_count": 27,
     "metadata": {},
     "output_type": "execute_result"
    }
   ],
   "source": [
    "tips.head()"
   ]
  },
  {
   "cell_type": "code",
   "execution_count": 28,
   "id": "85dc729e",
   "metadata": {
    "scrolled": true
   },
   "outputs": [
    {
     "name": "stdout",
     "output_type": "stream",
     "text": [
      "<class 'pandas.core.frame.DataFrame'>\n",
      "RangeIndex: 244 entries, 0 to 243\n",
      "Data columns (total 7 columns):\n",
      " #   Column      Non-Null Count  Dtype   \n",
      "---  ------      --------------  -----   \n",
      " 0   total_bill  244 non-null    float64 \n",
      " 1   tip         244 non-null    float64 \n",
      " 2   sex         244 non-null    category\n",
      " 3   smoker      244 non-null    category\n",
      " 4   day         244 non-null    category\n",
      " 5   time        244 non-null    category\n",
      " 6   size        244 non-null    int64   \n",
      "dtypes: category(4), float64(2), int64(1)\n",
      "memory usage: 7.4 KB\n"
     ]
    }
   ],
   "source": [
    "tips.info()"
   ]
  },
  {
   "cell_type": "code",
   "execution_count": 29,
   "id": "671957c6",
   "metadata": {},
   "outputs": [
    {
     "data": {
      "text/plain": [
       "day\n",
       "Thur    2.771452\n",
       "Fri     2.734737\n",
       "Sat     2.993103\n",
       "Sun     3.255132\n",
       "Name: tip, dtype: float64"
      ]
     },
     "execution_count": 29,
     "metadata": {},
     "output_type": "execute_result"
    }
   ],
   "source": [
    "day_tip_mean = tips.groupby('day')['tip'].mean()\n",
    "day_tip_mean"
   ]
  },
  {
   "cell_type": "code",
   "execution_count": 33,
   "id": "9cf053b7",
   "metadata": {
    "scrolled": true
   },
   "outputs": [
    {
     "data": {
      "image/png": "[encoded data removed]",
      "text/plain": [
       "<Figure size 640x480 with 1 Axes>"
      ]
     },
     "metadata": {},
     "output_type": "display_data"
    }
   ],
   "source": [
    "plt.bar(day_tip_mean.index, day_tip_mean.values)\n",
    "plt.xlabel('day')\n",
    "plt.ylabel('tip')\n",
    "plt.title('요일별 팁 평균', size=15)\n",
    "plt.show()"
   ]
  },
  {
   "cell_type": "code",
   "execution_count": 36,
   "id": "ab9cb56b",
   "metadata": {},
   "outputs": [
    {
     "data": {
      "image/png": "[encoded data removed]",
      "text/plain": [
       "<Figure size 640x480 with 1 Axes>"
      ]
     },
     "metadata": {},
     "output_type": "display_data"
    }
   ],
   "source": [
    "sns.barplot(data=tips, x='day', y='tip', ci=None)\n",
    "plt.title('요일별 팁 평균',size=15)\n",
    "plt.show()"
   ]
  },
  {
   "cell_type": "code",
   "execution_count": 38,
   "id": "71d85acf",
   "metadata": {},
   "outputs": [
    {
     "data": {
      "text/plain": [
       "day\n",
       "Thur    171.83\n",
       "Fri      51.96\n",
       "Sat     260.40\n",
       "Sun     247.39\n",
       "Name: tip, dtype: float64"
      ]
     },
     "execution_count": 38,
     "metadata": {},
     "output_type": "execute_result"
    }
   ],
   "source": [
    "day_tip_sum = tips.groupby('day')['tip'].sum()\n",
    "day_tip_sum"
   ]
  },
  {
   "cell_type": "code",
   "execution_count": 40,
   "id": "834eb61a",
   "metadata": {
    "scrolled": true
   },
   "outputs": [
    {
     "data": {
      "text/plain": [
       "Text(0.5, 1.0, '요일별 팁 합계')"
      ]
     },
     "execution_count": 40,
     "metadata": {},
     "output_type": "execute_result"
    },
    {
     "data": {
      "image/png": "[encoded data removed]",
      "text/plain": [
       "<Figure size 640x480 with 1 Axes>"
      ]
     },
     "metadata": {},
     "output_type": "display_data"
    }
   ],
   "source": [
    "plt.bar(day_tip_sum.index, day_tip_sum)\n",
    "plt.xlabel('day')\n",
    "plt.ylabel('tip')\n",
    "plt.title('요일별 팁 합계', size=15)"
   ]
  },
  {
   "cell_type": "code",
   "execution_count": 46,
   "id": "a8ec0381",
   "metadata": {},
   "outputs": [
    {
     "data": {
      "image/png": "[encoded data removed]",
      "text/plain": [
       "<Figure size 640x480 with 1 Axes>"
      ]
     },
     "metadata": {},
     "output_type": "display_data"
    }
   ],
   "source": [
    "sns.barplot(data=tips, x='day', y='tip', ci=None, estimator=sum, hue='smoker'\n",
    "           , palette = {'Yes':'gray','No':'skyblue'})\n",
    "plt.title('요일별 팁 합계', size=15)\n",
    "plt.grid(axis='y', ls=':')\n",
    "plt.show()"
   ]
  }
 ],
 "metadata": {
  "kernelspec": {
   "display_name": "Python 3 (ipykernel)",
   "language": "python",
   "name": "python3"
  },
  "language_info": {
   "codemirror_mode": {
    "name": "ipython",
    "version": 3
   },
   "file_extension": ".py",
   "mimetype": "text/x-python",
   "name": "python",
   "nbconvert_exporter": "python",
   "pygments_lexer": "ipython3",
   "version": "3.9.13"
  },
  "toc": {
   "base_numbering": 1,
   "nav_menu": {},
   "number_sections": true,
   "sideBar": true,
   "skip_h1_title": false,
   "title_cell": "Table of Contents",
   "title_sidebar": "Contents",
   "toc_cell": false,
   "toc_position": {
    "height": "calc(100% - 180px)",
    "left": "10px",
    "top": "150px",
    "width": "170.667px"
   },
   "toc_section_display": true,
   "toc_window_display": true
  }
 },
 "nbformat": 4,
 "nbformat_minor": 5
}
